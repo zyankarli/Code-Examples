{
 "cells": [
  {
   "cell_type": "code",
   "execution_count": 1,
   "metadata": {},
   "outputs": [],
   "source": [
    "##load modules\n",
    "import pandas as pd\n",
    "import numpy as np"
   ]
  },
  {
   "cell_type": "code",
   "execution_count": 2,
   "metadata": {},
   "outputs": [],
   "source": [
    "#load data\n",
    "##load excel sheet that states relationship between change of indicator and progress\n",
    "relationship = pd.read_excel('MPR3 SDG Indicators_03.xlsx', sheet_name=\"Indicator List\")\n",
    "relationship = pd.DataFrame(relationship, columns=['Indicator Number', 'SDG Environment Indicators', 'Relationship to Progress', 'IndicatorID', 'SeriesDescription'])\n",
    "###rename column 'indicator number' & Indicator name column\n",
    "relationship = relationship.rename(columns={'Indicator Number': 'Indicator', 'SDG Environment Indicators': 'Indicator Name'})\n",
    "\n",
    "##load MPR3 data; only load columns GeoAreaCode, GeoAreaName, TimePeriod, Value\n",
    "MPR3 = pd.read_excel('92 SDG Indicators data 061022.xlsx', usecols=\"A,B,G:J\")\n",
    "MPR3 = MPR3.rename(columns={\"Indicator_ID\": \"IndicatorID\"})"
   ]
  },
  {
   "cell_type": "code",
   "execution_count": 3,
   "metadata": {},
   "outputs": [],
   "source": [
    "#merge data\n",
    "##merge relationship with MPR3 data on IndicatorID\n",
    "###skip Indicator column of MPR3, because it's misleading\n",
    "data = pd.merge(left=MPR3.loc[:, MPR3.columns!='Indicator'], right=relationship[[\"Indicator\", 'Relationship to Progress', \"IndicatorID\",\"Indicator Name\", \"SeriesDescription\"]], how='right', on='IndicatorID')"
   ]
  },
  {
   "cell_type": "code",
   "execution_count": 4,
   "metadata": {},
   "outputs": [],
   "source": [
    "#limit df to relevant regions:\n",
    "## 1 - World\n",
    "## 202 - Sub-Saharan Africa (M49), []\n",
    "## 62 - Central Asia (M49) and Southern Asia (MDG=M49),\n",
    "## 753 - Eastern Asia (M49) and South-eastern Asia (MDG=M49)\n",
    "## 9 - Oceania (M49)\n",
    "## 150 - Europe (M49)\n",
    "## 21 - Northern America (M49)\n",
    "## 419 - Latin America and the Caribbean (MDG=M49)\n",
    "## 145 - Western Asia (M49)\n",
    "## 15 - Northern Africa (M49)\n",
    "\n",
    "data = data[data.GeoAreaCode.isin([1, 202, 62, 753, 9, 150, 21, 419, 145, 15])]"
   ]
  },
  {
   "cell_type": "code",
   "execution_count": 5,
   "metadata": {},
   "outputs": [],
   "source": [
    "regions_dict = {\n",
    "    1: 'World',\n",
    "    202: 'Sub-Saharan Africa',\n",
    "    62: 'Central and Southern Asia',\n",
    "    753: 'Eastern and South-eastern Asia',\n",
    "    9: 'Oceania',\n",
    "    150: 'Europe',\n",
    "    21: 'Northern America',\n",
    "    419: 'Latin America and the Caribbean',\n",
    "    145: 'Western Asia',\n",
    "    15: 'Northern Africa'\n",
    "}\n",
    "\n",
    "test_dict = {\n",
    "    1: 'World',\n",
    "    202: 'Sub-Saharan Africa'\n",
    "}"
   ]
  },
  {
   "cell_type": "code",
   "execution_count": 6,
   "metadata": {},
   "outputs": [],
   "source": [
    "def mpr_excel_data(GeoAreaCode):\n",
    "    #PREPARE DATA\n",
    "    df = data[data['GeoAreaCode'] == GeoAreaCode]\n",
    "    #find missing indicators\n",
    "    missing_indicators = [i for i in relationship.Indicator.unique() if i not in df.Indicator.unique()]\n",
    "    #add missing indicators to dataset\n",
    "    ##create df that includes missing indicators\n",
    "    adding_df = pd.DataFrame({\n",
    "            \"Indicator\": missing_indicators,\n",
    "            \"GeoAreaCode\": 202,\n",
    "            'GeoAreaName': np.nan,\n",
    "            'TimePeriod': 2000,\n",
    "            'Value': np.nan})\n",
    "\n",
    "    #Add indicator ID to newly added indicators\n",
    "    adding_df_new = pd.merge(left=adding_df, right=relationship[[\"Indicator\", 'Relationship to Progress', \"IndicatorID\",\"Indicator Name\", \"SeriesDescription\"]], how='left', on='Indicator')\n",
    "    #get columns in right order\n",
    "    adding_df_new = adding_df_new[['IndicatorID', 'Indicator', 'GeoAreaCode', 'GeoAreaName', 'TimePeriod', 'Value', 'Relationship to Progress', 'Indicator Name', 'SeriesDescription']]\n",
    "\n",
    "    ##add adding_df to df\n",
    "    df = df.append(adding_df_new)\n",
    "    #limit df to relevant indicators\n",
    "    df = df[df.Indicator.isin(relationship.Indicator.unique())]\n",
    "\n",
    "    #CREATE PIVOT TABLE\n",
    "    df_pivot = pd.pivot_table(data = df, index = 'Indicator', columns='TimePeriod', values=\"Value\", aggfunc=np.sum)\n",
    "    #add column indicating newest data point of each row (= last value in row)\n",
    "    df_pivot['Newest Data'] = df_pivot.fillna(method='ffill', axis=1).iloc[:, -1]\n",
    "    #add column indicating oldest data point of each row (= first value in row)\n",
    "    df_pivot['Oldest Data'] = df_pivot.fillna(method='bfill', axis=1).iloc[:, 0]\n",
    "\n",
    "    #calculate percentage of change over full monitoring period via (newest data - oldest data)/ oldest data * 100\n",
    "    df_pivot['Change'] = (df_pivot['Newest Data'] - df_pivot['Oldest Data']) / df_pivot['Oldest Data'] * 100\n",
    "\n",
    "    #sort pivot table on indicator\n",
    "    ##rest index => free indicator column\n",
    "    df_pivot = df_pivot.reset_index()\n",
    "    ##convert indicator column into type category\n",
    "    df_pivot.Indicator = df_pivot.Indicator.astype('category')\n",
    "    ##set categories according to correct indicator list\n",
    "    df_pivot.Indicator.cat.set_categories(relationship['Indicator'].unique(), inplace=True)\n",
    "    ##sort pivot on indicator\n",
    "    df_pivot.sort_values(['Indicator'], inplace=True)\n",
    "\n",
    "    ##reverse to dtype string\n",
    "    ###needed for inserting values at MPR3 values\n",
    "    df_pivot.Indicator = df_pivot.Indicator.astype('string')\n",
    "\n",
    "    ##make indicator index again\n",
    "    df_pivot.set_index(['Indicator'], inplace=True)\n",
    "\n",
    "    #add relationship column to pivot table\n",
    "    ##add as new column\n",
    "    df_pivot['Relationship'] = list(relationship['Relationship to Progress'])\n",
    "    ##add Sub-indicator & description as new columns\n",
    "    df_pivot[\"Sub-Indicator\"] = list(relationship[\"IndicatorID\"])\n",
    "    df_pivot[\"SeriesDescription\"] = list(relationship[\"SeriesDescription\"])\n",
    "\n",
    "    #ADD MPR Status\n",
    "    #write function to assess status\n",
    "    def status_handler(row):\n",
    "        if (row['Change'] >= 1) & (row['Relationship'] =='direct'):\n",
    "            return 'Positive change'\n",
    "        if (row['Change'] <= -1) & (row['Relationship'] =='direct'):\n",
    "            return 'Negative change'\n",
    "        if (row['Change'] >= 1) & (row['Relationship'] =='indirect'):\n",
    "            return 'Negative change'\n",
    "        if (row['Change'] <= -1) & (row['Relationship'] =='indirect'):\n",
    "            return 'Positive change'\n",
    "        if (row['Change'] == 0) & (row[:23].count() == 1):\n",
    "            return \"Some data\"\n",
    "        if (row['Change'] == 0) :\n",
    "            return 'Little change'\n",
    "        if (row['Change'] >= -1) & (row['Change'] <= 1):\n",
    "            return 'Little change'\n",
    "        if (np.isnan(row['Change'])):\n",
    "            return 'No data'\n",
    "    \n",
    "    #Add Status column\n",
    "    df_pivot['MPR3 Status'] = df_pivot.apply(status_handler, axis=1)\n",
    "    #Turn 0.000 from 2000 into NA values if count MP3 Status is No Data (means that rows was added artificially)\n",
    "    ##NB: data is falsely represented by zero because of sum function of pivot table\n",
    "    df_pivot[2000] = np.where((df_pivot[2000] == 0) & (df_pivot[\"MPR3 Status\"] == 'No data'), np.nan, df_pivot[2000])\n",
    "\n",
    "    #RETURN DF_PIVOT\n",
    "    return (df_pivot)"
   ]
  },
  {
   "cell_type": "code",
   "execution_count": 7,
   "metadata": {},
   "outputs": [
    {
     "name": "stderr",
     "output_type": "stream",
     "text": [
      "C:\\Users\\KS\\AppData\\Local\\Temp\\ipykernel_6316\\3864488902.py:21: FutureWarning: The frame.append method is deprecated and will be removed from pandas in a future version. Use pandas.concat instead.\n",
      "  df = df.append(adding_df_new)\n",
      "C:\\Users\\KS\\anaconda3\\lib\\site-packages\\pandas\\core\\arrays\\categorical.py:2747: FutureWarning: The `inplace` parameter in pandas.Categorical.set_categories is deprecated and will be removed in a future version. Removing unused categories will always return a new Categorical object.\n",
      "  res = method(*args, **kwargs)\n",
      "C:\\Users\\KS\\AppData\\Local\\Temp\\ipykernel_6316\\3864488902.py:21: FutureWarning: The frame.append method is deprecated and will be removed from pandas in a future version. Use pandas.concat instead.\n",
      "  df = df.append(adding_df_new)\n",
      "C:\\Users\\KS\\anaconda3\\lib\\site-packages\\pandas\\core\\arrays\\categorical.py:2747: FutureWarning: The `inplace` parameter in pandas.Categorical.set_categories is deprecated and will be removed in a future version. Removing unused categories will always return a new Categorical object.\n",
      "  res = method(*args, **kwargs)\n",
      "C:\\Users\\KS\\AppData\\Local\\Temp\\ipykernel_6316\\3864488902.py:21: FutureWarning: The frame.append method is deprecated and will be removed from pandas in a future version. Use pandas.concat instead.\n",
      "  df = df.append(adding_df_new)\n",
      "C:\\Users\\KS\\anaconda3\\lib\\site-packages\\pandas\\core\\arrays\\categorical.py:2747: FutureWarning: The `inplace` parameter in pandas.Categorical.set_categories is deprecated and will be removed in a future version. Removing unused categories will always return a new Categorical object.\n",
      "  res = method(*args, **kwargs)\n",
      "C:\\Users\\KS\\AppData\\Local\\Temp\\ipykernel_6316\\3864488902.py:21: FutureWarning: The frame.append method is deprecated and will be removed from pandas in a future version. Use pandas.concat instead.\n",
      "  df = df.append(adding_df_new)\n",
      "C:\\Users\\KS\\anaconda3\\lib\\site-packages\\pandas\\core\\arrays\\categorical.py:2747: FutureWarning: The `inplace` parameter in pandas.Categorical.set_categories is deprecated and will be removed in a future version. Removing unused categories will always return a new Categorical object.\n",
      "  res = method(*args, **kwargs)\n",
      "C:\\Users\\KS\\AppData\\Local\\Temp\\ipykernel_6316\\3864488902.py:21: FutureWarning: The frame.append method is deprecated and will be removed from pandas in a future version. Use pandas.concat instead.\n",
      "  df = df.append(adding_df_new)\n",
      "C:\\Users\\KS\\anaconda3\\lib\\site-packages\\pandas\\core\\arrays\\categorical.py:2747: FutureWarning: The `inplace` parameter in pandas.Categorical.set_categories is deprecated and will be removed in a future version. Removing unused categories will always return a new Categorical object.\n",
      "  res = method(*args, **kwargs)\n",
      "C:\\Users\\KS\\AppData\\Local\\Temp\\ipykernel_6316\\3864488902.py:21: FutureWarning: The frame.append method is deprecated and will be removed from pandas in a future version. Use pandas.concat instead.\n",
      "  df = df.append(adding_df_new)\n",
      "C:\\Users\\KS\\anaconda3\\lib\\site-packages\\pandas\\core\\arrays\\categorical.py:2747: FutureWarning: The `inplace` parameter in pandas.Categorical.set_categories is deprecated and will be removed in a future version. Removing unused categories will always return a new Categorical object.\n",
      "  res = method(*args, **kwargs)\n",
      "C:\\Users\\KS\\AppData\\Local\\Temp\\ipykernel_6316\\3864488902.py:21: FutureWarning: The frame.append method is deprecated and will be removed from pandas in a future version. Use pandas.concat instead.\n",
      "  df = df.append(adding_df_new)\n",
      "C:\\Users\\KS\\anaconda3\\lib\\site-packages\\pandas\\core\\arrays\\categorical.py:2747: FutureWarning: The `inplace` parameter in pandas.Categorical.set_categories is deprecated and will be removed in a future version. Removing unused categories will always return a new Categorical object.\n",
      "  res = method(*args, **kwargs)\n",
      "C:\\Users\\KS\\AppData\\Local\\Temp\\ipykernel_6316\\3864488902.py:21: FutureWarning: The frame.append method is deprecated and will be removed from pandas in a future version. Use pandas.concat instead.\n",
      "  df = df.append(adding_df_new)\n",
      "C:\\Users\\KS\\anaconda3\\lib\\site-packages\\pandas\\core\\arrays\\categorical.py:2747: FutureWarning: The `inplace` parameter in pandas.Categorical.set_categories is deprecated and will be removed in a future version. Removing unused categories will always return a new Categorical object.\n",
      "  res = method(*args, **kwargs)\n",
      "C:\\Users\\KS\\AppData\\Local\\Temp\\ipykernel_6316\\3864488902.py:21: FutureWarning: The frame.append method is deprecated and will be removed from pandas in a future version. Use pandas.concat instead.\n",
      "  df = df.append(adding_df_new)\n",
      "C:\\Users\\KS\\anaconda3\\lib\\site-packages\\pandas\\core\\arrays\\categorical.py:2747: FutureWarning: The `inplace` parameter in pandas.Categorical.set_categories is deprecated and will be removed in a future version. Removing unused categories will always return a new Categorical object.\n",
      "  res = method(*args, **kwargs)\n",
      "C:\\Users\\KS\\AppData\\Local\\Temp\\ipykernel_6316\\3864488902.py:21: FutureWarning: The frame.append method is deprecated and will be removed from pandas in a future version. Use pandas.concat instead.\n",
      "  df = df.append(adding_df_new)\n",
      "C:\\Users\\KS\\anaconda3\\lib\\site-packages\\pandas\\core\\arrays\\categorical.py:2747: FutureWarning: The `inplace` parameter in pandas.Categorical.set_categories is deprecated and will be removed in a future version. Removing unused categories will always return a new Categorical object.\n",
      "  res = method(*args, **kwargs)\n"
     ]
    }
   ],
   "source": [
    "#run function for all regions and resulting df to dictionary\n",
    "sheets={}\n",
    "for GeoAreaCode, region in regions_dict.items():\n",
    "    #run function\n",
    "    df = mpr_excel_data(GeoAreaCode)\n",
    "    #save in dict\n",
    "    sheets[str(region)]=df"
   ]
  },
  {
   "cell_type": "code",
   "execution_count": 8,
   "metadata": {},
   "outputs": [
    {
     "data": {
      "text/plain": [
       "dict_keys(['World', 'Sub-Saharan Africa', 'Central and Southern Asia', 'Eastern and South-eastern Asia', 'Oceania', 'Europe', 'Northern America', 'Latin America and the Caribbean', 'Western Asia', 'Northern Africa'])"
      ]
     },
     "execution_count": 8,
     "metadata": {},
     "output_type": "execute_result"
    }
   ],
   "source": [
    "sheets.keys()"
   ]
  },
  {
   "cell_type": "code",
   "execution_count": 9,
   "metadata": {},
   "outputs": [],
   "source": [
    "#export df to excel\n",
    "writer = pd.ExcelWriter(path= r'C:\\Users\\KS\\OneDrive - United Nations\\Karl Scheifinger 2022\\Task1_MP3- Scorecards\\Output.xlsx', engine='xlsxwriter')\n",
    "for sheet in sheets:\n",
    "    sheets[sheet].to_excel(writer, sheet_name=str(sheet), index=True, header=True)\n",
    "writer.save()"
   ]
  }
 ],
 "metadata": {
  "interpreter": {
   "hash": "1167b4fea0391b95f52e471263fc0eab8451433061b7d1d803c76d6e5a7973f0"
  },
  "kernelspec": {
   "display_name": "Python 3 (ipykernel)",
   "language": "python",
   "name": "python3"
  },
  "language_info": {
   "codemirror_mode": {
    "name": "ipython",
    "version": 3
   },
   "file_extension": ".py",
   "mimetype": "text/x-python",
   "name": "python",
   "nbconvert_exporter": "python",
   "pygments_lexer": "ipython3",
   "version": "3.9.12"
  }
 },
 "nbformat": 4,
 "nbformat_minor": 2
}
