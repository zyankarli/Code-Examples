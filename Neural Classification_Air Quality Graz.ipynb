{
 "cells": [
  {
   "cell_type": "code",
   "execution_count": 2,
   "metadata": {},
   "outputs": [],
   "source": [
    "#Import libraries\n",
    "import numpy as np\n",
    "import pandas as pd\n",
    "import matplotlib.pyplot as plt\n",
    "import tensorflow as tf\n",
    "\n",
    "#for combining panda dataframes\n",
    "from functools import reduce\n",
    "\n",
    "#for z normalisation\n",
    "from sklearn.preprocessing import StandardScaler\n",
    "#for dataset splitting\n",
    "from sklearn.model_selection import train_test_split\n",
    "#for precision/ recall\n",
    "from sklearn.metrics import precision_score\n",
    "from sklearn.metrics import recall_score\n",
    "\n",
    "#for AI model\n",
    "from tensorflow.keras.models import Sequential\n",
    "from tensorflow.keras.layers import Dense\n",
    "from tensorflow.keras.activations import linear, relu\n",
    "\n",
    "#import utils from Coursera course\n",
    "##from assigment_utils import *\n",
    "\n"
   ]
  },
  {
   "cell_type": "code",
   "execution_count": 3,
   "metadata": {},
   "outputs": [
    {
     "name": "stdout",
     "output_type": "stream",
     "text": [
      "(4331, 5)\n"
     ]
    },
    {
     "data": {
      "text/html": [
       "<div>\n",
       "<style scoped>\n",
       "    .dataframe tbody tr th:only-of-type {\n",
       "        vertical-align: middle;\n",
       "    }\n",
       "\n",
       "    .dataframe tbody tr th {\n",
       "        vertical-align: top;\n",
       "    }\n",
       "\n",
       "    .dataframe thead th {\n",
       "        text-align: right;\n",
       "    }\n",
       "</style>\n",
       "<table border=\"1\" class=\"dataframe\">\n",
       "  <thead>\n",
       "    <tr style=\"text-align: right;\">\n",
       "      <th></th>\n",
       "      <th>Date</th>\n",
       "      <th>Time</th>\n",
       "      <th>Value</th>\n",
       "      <th>Measure</th>\n",
       "      <th>Location</th>\n",
       "    </tr>\n",
       "  </thead>\n",
       "  <tbody>\n",
       "    <tr>\n",
       "      <th>0</th>\n",
       "      <td>2021-02-01</td>\n",
       "      <td>00:00</td>\n",
       "      <td>-0.563162</td>\n",
       "      <td>LUTE (Lufttemperatur) [°;C]</td>\n",
       "      <td>Graz-Ost</td>\n",
       "    </tr>\n",
       "    <tr>\n",
       "      <th>1</th>\n",
       "      <td>2021-03-01</td>\n",
       "      <td>00:00</td>\n",
       "      <td>1.959388</td>\n",
       "      <td>LUTE (Lufttemperatur) [°;C]</td>\n",
       "      <td>Graz-Ost</td>\n",
       "    </tr>\n",
       "    <tr>\n",
       "      <th>2</th>\n",
       "      <td>2021-04-01</td>\n",
       "      <td>00:00</td>\n",
       "      <td>3.186550</td>\n",
       "      <td>LUTE (Lufttemperatur) [°;C]</td>\n",
       "      <td>Graz-Ost</td>\n",
       "    </tr>\n",
       "    <tr>\n",
       "      <th>3</th>\n",
       "      <td>2021-05-01</td>\n",
       "      <td>00:00</td>\n",
       "      <td>2.917329</td>\n",
       "      <td>LUTE (Lufttemperatur) [°;C]</td>\n",
       "      <td>Graz-Ost</td>\n",
       "    </tr>\n",
       "    <tr>\n",
       "      <th>4</th>\n",
       "      <td>2021-06-01</td>\n",
       "      <td>00:00</td>\n",
       "      <td>2.696276</td>\n",
       "      <td>LUTE (Lufttemperatur) [°;C]</td>\n",
       "      <td>Graz-Ost</td>\n",
       "    </tr>\n",
       "  </tbody>\n",
       "</table>\n",
       "</div>"
      ],
      "text/plain": [
       "        Date   Time     Value                      Measure  Location\n",
       "0 2021-02-01  00:00 -0.563162  LUTE (Lufttemperatur) [°;C]  Graz-Ost\n",
       "1 2021-03-01  00:00  1.959388  LUTE (Lufttemperatur) [°;C]  Graz-Ost\n",
       "2 2021-04-01  00:00  3.186550  LUTE (Lufttemperatur) [°;C]  Graz-Ost\n",
       "3 2021-05-01  00:00  2.917329  LUTE (Lufttemperatur) [°;C]  Graz-Ost\n",
       "4 2021-06-01  00:00  2.696276  LUTE (Lufttemperatur) [°;C]  Graz-Ost"
      ]
     },
     "execution_count": 3,
     "metadata": {},
     "output_type": "execute_result"
    }
   ],
   "source": [
    "#load & inspect data\n",
    "#Load data\n",
    "dat = pd.read_csv(r\"C:\\Users\\schei\\OneDrive\\Dokumente\\Programmieren\\AAA_Machine Learning Specialisation by Andrew Ng - Coursera\\Own Code\\Data\\luis-daten.csv\",\n",
    "sep=\";\")\n",
    "\n",
    "#Get data types right\n",
    "dat['Date'] = dat['Date'].astype(\"datetime64\")\n",
    "dat['Value'] = dat[\"Value\"].astype(\"float64\")\n",
    "\n",
    "print(dat.shape)\n",
    "dat.head(5)"
   ]
  },
  {
   "cell_type": "code",
   "execution_count": 4,
   "metadata": {},
   "outputs": [
    {
     "name": "stdout",
     "output_type": "stream",
     "text": [
      "(1433, 12)\n"
     ]
    },
    {
     "data": {
      "text/html": [
       "<div>\n",
       "<style scoped>\n",
       "    .dataframe tbody tr th:only-of-type {\n",
       "        vertical-align: middle;\n",
       "    }\n",
       "\n",
       "    .dataframe tbody tr th {\n",
       "        vertical-align: top;\n",
       "    }\n",
       "\n",
       "    .dataframe thead th {\n",
       "        text-align: right;\n",
       "    }\n",
       "</style>\n",
       "<table border=\"1\" class=\"dataframe\">\n",
       "  <thead>\n",
       "    <tr style=\"text-align: right;\">\n",
       "      <th></th>\n",
       "      <th>Location</th>\n",
       "      <th>Date</th>\n",
       "      <th>Time_x</th>\n",
       "      <th>Temperature</th>\n",
       "      <th>Measure_x</th>\n",
       "      <th>Time_y</th>\n",
       "      <th>Humidity</th>\n",
       "      <th>Measure_y</th>\n",
       "      <th>Time</th>\n",
       "      <th>PM10</th>\n",
       "      <th>Measure</th>\n",
       "      <th>Class</th>\n",
       "    </tr>\n",
       "  </thead>\n",
       "  <tbody>\n",
       "    <tr>\n",
       "      <th>0</th>\n",
       "      <td>Graz-Ost</td>\n",
       "      <td>2021-02-01</td>\n",
       "      <td>00:00</td>\n",
       "      <td>-0.563162</td>\n",
       "      <td>LUTE (Lufttemperatur) [°;C]</td>\n",
       "      <td>00:00</td>\n",
       "      <td>97.71438</td>\n",
       "      <td>LUFE (Relative Luftfeuchte) [%]</td>\n",
       "      <td>00:00</td>\n",
       "      <td>42.370000</td>\n",
       "      <td>PM10 (Feinstaub) [µ;g/m³;]</td>\n",
       "      <td>0.0</td>\n",
       "    </tr>\n",
       "    <tr>\n",
       "      <th>1</th>\n",
       "      <td>Graz-Ost</td>\n",
       "      <td>2021-03-01</td>\n",
       "      <td>00:00</td>\n",
       "      <td>1.959388</td>\n",
       "      <td>LUTE (Lufttemperatur) [°;C]</td>\n",
       "      <td>00:00</td>\n",
       "      <td>100.00000</td>\n",
       "      <td>LUFE (Relative Luftfeuchte) [%]</td>\n",
       "      <td>00:00</td>\n",
       "      <td>29.010008</td>\n",
       "      <td>PM10 (Feinstaub) [µ;g/m³;]</td>\n",
       "      <td>0.0</td>\n",
       "    </tr>\n",
       "    <tr>\n",
       "      <th>2</th>\n",
       "      <td>Graz-Ost</td>\n",
       "      <td>2021-04-01</td>\n",
       "      <td>00:00</td>\n",
       "      <td>3.186550</td>\n",
       "      <td>LUTE (Lufttemperatur) [°;C]</td>\n",
       "      <td>00:00</td>\n",
       "      <td>100.00000</td>\n",
       "      <td>LUFE (Relative Luftfeuchte) [%]</td>\n",
       "      <td>00:00</td>\n",
       "      <td>20.789991</td>\n",
       "      <td>PM10 (Feinstaub) [µ;g/m³;]</td>\n",
       "      <td>0.0</td>\n",
       "    </tr>\n",
       "    <tr>\n",
       "      <th>3</th>\n",
       "      <td>Graz-Ost</td>\n",
       "      <td>2021-05-01</td>\n",
       "      <td>00:00</td>\n",
       "      <td>2.917329</td>\n",
       "      <td>LUTE (Lufttemperatur) [°;C]</td>\n",
       "      <td>00:00</td>\n",
       "      <td>100.00000</td>\n",
       "      <td>LUFE (Relative Luftfeuchte) [%]</td>\n",
       "      <td>00:00</td>\n",
       "      <td>19.580004</td>\n",
       "      <td>PM10 (Feinstaub) [µ;g/m³;]</td>\n",
       "      <td>0.0</td>\n",
       "    </tr>\n",
       "    <tr>\n",
       "      <th>4</th>\n",
       "      <td>Graz-Ost</td>\n",
       "      <td>2021-06-01</td>\n",
       "      <td>00:00</td>\n",
       "      <td>2.696276</td>\n",
       "      <td>LUTE (Lufttemperatur) [°;C]</td>\n",
       "      <td>00:00</td>\n",
       "      <td>99.93652</td>\n",
       "      <td>LUFE (Relative Luftfeuchte) [%]</td>\n",
       "      <td>00:00</td>\n",
       "      <td>16.590008</td>\n",
       "      <td>PM10 (Feinstaub) [µ;g/m³;]</td>\n",
       "      <td>0.0</td>\n",
       "    </tr>\n",
       "  </tbody>\n",
       "</table>\n",
       "</div>"
      ],
      "text/plain": [
       "   Location       Date Time_x  Temperature                    Measure_x  \\\n",
       "0  Graz-Ost 2021-02-01  00:00    -0.563162  LUTE (Lufttemperatur) [°;C]   \n",
       "1  Graz-Ost 2021-03-01  00:00     1.959388  LUTE (Lufttemperatur) [°;C]   \n",
       "2  Graz-Ost 2021-04-01  00:00     3.186550  LUTE (Lufttemperatur) [°;C]   \n",
       "3  Graz-Ost 2021-05-01  00:00     2.917329  LUTE (Lufttemperatur) [°;C]   \n",
       "4  Graz-Ost 2021-06-01  00:00     2.696276  LUTE (Lufttemperatur) [°;C]   \n",
       "\n",
       "  Time_y   Humidity                        Measure_y   Time       PM10  \\\n",
       "0  00:00   97.71438  LUFE (Relative Luftfeuchte) [%]  00:00  42.370000   \n",
       "1  00:00  100.00000  LUFE (Relative Luftfeuchte) [%]  00:00  29.010008   \n",
       "2  00:00  100.00000  LUFE (Relative Luftfeuchte) [%]  00:00  20.789991   \n",
       "3  00:00  100.00000  LUFE (Relative Luftfeuchte) [%]  00:00  19.580004   \n",
       "4  00:00   99.93652  LUFE (Relative Luftfeuchte) [%]  00:00  16.590008   \n",
       "\n",
       "                      Measure  Class  \n",
       "0  PM10 (Feinstaub) [µ;g/m³;]    0.0  \n",
       "1  PM10 (Feinstaub) [µ;g/m³;]    0.0  \n",
       "2  PM10 (Feinstaub) [µ;g/m³;]    0.0  \n",
       "3  PM10 (Feinstaub) [µ;g/m³;]    0.0  \n",
       "4  PM10 (Feinstaub) [µ;g/m³;]    0.0  "
      ]
     },
     "execution_count": 4,
     "metadata": {},
     "output_type": "execute_result"
    }
   ],
   "source": [
    "#data wrangling\n",
    "#Align temperature, humidity and PM10 per day\n",
    "#Split dataframes\n",
    "temp = dat[dat[\"Measure\"] == \"LUTE (Lufttemperatur) [°;C]\"]\n",
    "humi = dat[dat[\"Measure\"] == \"LUFE (Relative Luftfeuchte) [%]\"]\n",
    "pm10 = dat[dat['Measure'] == \"PM10 (Feinstaub) [µ;g/m³;]\"] \n",
    "\n",
    "#set index on location and date (otherwise multiple entries on same date)\n",
    "temp.set_index([\"Location\", \"Date\"], inplace=True)\n",
    "humi.set_index([\"Location\", \"Date\"], inplace=True)\n",
    "pm10.set_index([\"Location\", \"Date\"], inplace=True)\n",
    "\n",
    "dfs = [temp, humi, pm10]\n",
    "#combine based on index\n",
    "dat = reduce(lambda  left,right: pd.merge(left,right,left_index=True,\n",
    "                                            right_index= True,\n",
    "                                            how='inner'), dfs)\n",
    "\n",
    "#rename columns\n",
    "dat.rename(columns={'Value_x':'Temperature', 'Value_y':'Humidity', 'Value':\"PM10\"},\n",
    "    inplace= True)\n",
    "\n",
    "#reset index\n",
    "dat.reset_index(inplace=True)\n",
    "\n",
    "#according to WHO, max. PM10 for 24h is 45u per g/m3\n",
    "#classification: if value of PM10 is higher than 45, positive\n",
    "\n",
    "dat.loc[dat[\"PM10\"] >= 45, \"Class\"] = 1\n",
    "dat.loc[dat[\"PM10\"] < 45, \"Class\"] = 0\n",
    "\n",
    "print(dat.shape)\n",
    "dat.head(5)"
   ]
  },
  {
   "cell_type": "code",
   "execution_count": 5,
   "metadata": {},
   "outputs": [
    {
     "name": "stdout",
     "output_type": "stream",
     "text": [
      "The shape of X is: (1433, 2)\n",
      "The shape of y is: (1433,)\n"
     ]
    }
   ],
   "source": [
    "#get X and y - as np array not as pd dataframe\n",
    "X = dat[['Temperature', 'Humidity']]\n",
    "y = dat[\"Class\"].to_numpy()\n",
    "\n",
    "#check shapes\n",
    "print(\"The shape of X is: \" + str(X.shape))\n",
    "print(\"The shape of y is: \" + str(y.shape))"
   ]
  },
  {
   "cell_type": "code",
   "execution_count": 15,
   "metadata": {},
   "outputs": [
    {
     "data": {
      "text/plain": [
       "Text(0.5, 1.0, 'Class 1')"
      ]
     },
     "execution_count": 15,
     "metadata": {},
     "output_type": "execute_result"
    },
    {
     "data": {
      "image/png": "[encoded data removed]",
      "text/plain": [
       "<Figure size 300x300 with 1 Axes>"
      ]
     },
     "metadata": {},
     "output_type": "display_data"
    },
    {
     "data": {
      "image/png": "[encoded data removed]",
      "text/plain": [
       "<Figure size 600x300 with 2 Axes>"
      ]
     },
     "metadata": {},
     "output_type": "display_data"
    }
   ],
   "source": [
    "#visualise data\n",
    "##plot two features with both classes in one graph\n",
    "fig, (ax1) = plt.subplots(1, 1, figsize = (3, 3))\n",
    "ax1.scatter(dat[\"Temperature\"], dat[\"Humidity\"], c = dat[\"Class\"], cmap=\"PuOr\")\n",
    "ax1.set_xlabel(\"Temperature\")\n",
    "ax1.set_ylabel(\"Humidity\")\n",
    "\n",
    "##plot two features with both classes in one graph\n",
    "fig, (ax1, ax2) = plt.subplots(1, 2, figsize = (6, 3))\n",
    "ax1.scatter(dat[dat[\"Class\"] == 0][\"Temperature\"], dat[dat[\"Class\"] == 0][\"Humidity\"])\n",
    "ax1.set_xlabel(\"Temperature\")\n",
    "ax1.set_ylabel(\"Humidity\")\n",
    "ax1.set_title(\"Class 0\")\n",
    "ax2.scatter(dat[dat[\"Class\"] == 1][\"Temperature\"], dat[dat[\"Class\"] == 1][\"Humidity\"])\n",
    "ax2.set_xlabel(\"Temperature\")\n",
    "ax2.set_ylabel(\"Humidity\")\n",
    "ax2.set_title(\"Class 1\")\n"
   ]
  },
  {
   "cell_type": "code",
   "execution_count": 65,
   "metadata": {},
   "outputs": [
    {
     "name": "stdout",
     "output_type": "stream",
     "text": [
      "Ratio of positives: 0.03977669225401256\n",
      "Ratio of negatives: 0.9602233077459874\n"
     ]
    }
   ],
   "source": [
    "#check imbalance of data set\n",
    "##ratio of positives\n",
    "print(\"Ratio of positives: \" + str(dat[dat['Class'] == 1].count()[-1] / dat.shape[0]))\n",
    "print(\"Ratio of negatives: \" + str(dat[dat['Class'] == 0].count()[-1] / dat.shape[0]))\n"
   ]
  },
  {
   "cell_type": "code",
   "execution_count": 7,
   "metadata": {},
   "outputs": [
    {
     "name": "stdout",
     "output_type": "stream",
     "text": [
      "X_train.shape (859, 2) y_train.shape (859,)\n",
      "X_cv.shape (287, 2) y_cv.shape (287,)\n",
      "X_test.shape (287, 2) y_test.shape (287,)\n"
     ]
    },
    {
     "data": {
      "image/png": "[encoded data removed]",
      "text/plain": [
       "<Figure size 300x300 with 1 Axes>"
      ]
     },
     "metadata": {},
     "output_type": "display_data"
    }
   ],
   "source": [
    "#Split data\n",
    "#split the data using sklearn routine \n",
    "X_train, X_, y_train, y_ = train_test_split(X, y, test_size=0.40, random_state=1)\n",
    "X_cv, X_test, y_cv, y_test = train_test_split(X_, y_, test_size=0.50, random_state=1)\n",
    "\n",
    "print(\"X_train.shape\", X_train.shape, \"y_train.shape\", y_train.shape)\n",
    "print(\"X_cv.shape\", X_cv.shape, \"y_cv.shape\", y_cv.shape)\n",
    "print(\"X_test.shape\", X_test.shape, \"y_test.shape\", y_test.shape)\n",
    "\n",
    "\n",
    "#standardise data\n",
    "sdt_scaler = StandardScaler()\n",
    "#fit scaler to training set and transform it\n",
    "X_trainNorm = pd.DataFrame(sdt_scaler.fit_transform(X_train), columns = X_train.columns)\n",
    "##transfer scale on other data sets\n",
    "X_cvNorm = pd.DataFrame(sdt_scaler.transform(X_cv), columns = X_cv.columns)\n",
    "X_testNorm = pd.DataFrame(sdt_scaler.transform(X_test), columns = X_test.columns)\n",
    "\n",
    "fig, (ax1) = plt.subplots(1, 1, figsize = (3, 3))\n",
    "ax1.scatter(X_trainNorm[\"Temperature\"], X_trainNorm[\"Humidity\"])\n",
    "ax1.set_xlabel(\"Temperature\")\n",
    "ax1.set_ylabel(\"Humidity\")\n",
    "\n",
    "#convert back to numpy form\n",
    "X_trainNorm = X_trainNorm.to_numpy()\n",
    "X_cvNorm = X_cvNorm.to_numpy()\n",
    "X_testNorm = X_testNorm.to_numpy()"
   ]
  },
  {
   "cell_type": "code",
   "execution_count": 101,
   "metadata": {},
   "outputs": [],
   "source": [
    "#create and train softmax classification mode\n",
    "\n",
    "#build model\n",
    "model = Sequential([\n",
    "    #input layer\n",
    "    #tf.keras.Input(shape=(859,2)),\n",
    "    #hidden layer\n",
    "    ##inlcude regularisation\n",
    "    tf.keras.layers.Dense(units = 8, activation=\"relu\", kernel_regularizer=tf.keras.regularizers.l2(0.1)),\n",
    "    tf.keras.layers.Dense(units = 6, activation=\"relu\", kernel_regularizer=tf.keras.regularizers.l2(0.1)),\n",
    "    tf.keras.layers.Dense(units = 3, activation=\"relu\", kernel_regularizer=tf.keras.regularizers.l2(0.1)),\n",
    "    #output layer, linear for from logits calculation\n",
    "    tf.keras.layers.Dense(units = 1, activation=\"linear\")\n",
    "], name = \"My_first_model\"\n",
    ")"
   ]
  },
  {
   "cell_type": "code",
   "execution_count": 39,
   "metadata": {},
   "outputs": [
    {
     "name": "stdout",
     "output_type": "stream",
     "text": [
      "Model: \"My_first_model\"\n",
      "_________________________________________________________________\n",
      " Layer (type)                Output Shape              Param #   \n",
      "=================================================================\n",
      " dense_7 (Dense)             (None, 859, 6)            18        \n",
      "                                                                 \n",
      " dense_8 (Dense)             (None, 859, 3)            21        \n",
      "                                                                 \n",
      " dense_9 (Dense)             (None, 859, 1)            4         \n",
      "                                                                 \n",
      "=================================================================\n",
      "Total params: 43\n",
      "Trainable params: 43\n",
      "Non-trainable params: 0\n",
      "_________________________________________________________________\n"
     ]
    }
   ],
   "source": [
    "#to call model summary, input layer needs to be specified\n",
    "model.summary()"
   ]
  },
  {
   "cell_type": "code",
   "execution_count": 102,
   "metadata": {},
   "outputs": [],
   "source": [
    "#Compile model\n",
    "##Binary Classification (higher than WHO or not)\n",
    "##Adam optimiser to allow for individual learning rates\n",
    "model.compile(\n",
    "    loss=tf.keras.losses.BinaryCrossentropy(from_logits=True),\n",
    "    optimizer=tf.keras.optimizers.Adam(learning_rate=0.001)\n",
    ")"
   ]
  },
  {
   "cell_type": "code",
   "execution_count": 104,
   "metadata": {},
   "outputs": [
    {
     "name": "stdout",
     "output_type": "stream",
     "text": [
      "Epoch 1/100\n",
      "27/27 [==============================] - 0s 2ms/step - loss: 0.1801\n",
      "Epoch 2/100\n",
      "27/27 [==============================] - 0s 2ms/step - loss: 0.1796\n",
      "Epoch 3/100\n",
      "27/27 [==============================] - 0s 3ms/step - loss: 0.1792\n",
      "Epoch 4/100\n",
      "27/27 [==============================] - 0s 2ms/step - loss: 0.1787\n",
      "Epoch 5/100\n",
      "27/27 [==============================] - 0s 2ms/step - loss: 0.1782\n",
      "Epoch 6/100\n",
      "27/27 [==============================] - 0s 2ms/step - loss: 0.1779\n",
      "Epoch 7/100\n",
      "27/27 [==============================] - 0s 2ms/step - loss: 0.1775\n",
      "Epoch 8/100\n",
      "27/27 [==============================] - 0s 2ms/step - loss: 0.1771\n",
      "Epoch 9/100\n",
      "27/27 [==============================] - 0s 2ms/step - loss: 0.1767\n",
      "Epoch 10/100\n",
      "27/27 [==============================] - 0s 2ms/step - loss: 0.1764\n",
      "Epoch 11/100\n",
      "27/27 [==============================] - 0s 2ms/step - loss: 0.1762\n",
      "Epoch 12/100\n",
      "27/27 [==============================] - 0s 2ms/step - loss: 0.1758\n",
      "Epoch 13/100\n",
      "27/27 [==============================] - 0s 2ms/step - loss: 0.1755\n",
      "Epoch 14/100\n",
      "27/27 [==============================] - 0s 5ms/step - loss: 0.1753\n",
      "Epoch 15/100\n",
      "27/27 [==============================] - 0s 2ms/step - loss: 0.1750\n",
      "Epoch 16/100\n",
      "27/27 [==============================] - 0s 3ms/step - loss: 0.1748\n",
      "Epoch 17/100\n",
      "27/27 [==============================] - 0s 2ms/step - loss: 0.1745\n",
      "Epoch 18/100\n",
      "27/27 [==============================] - 0s 2ms/step - loss: 0.1742\n",
      "Epoch 19/100\n",
      "27/27 [==============================] - 0s 2ms/step - loss: 0.1741\n",
      "Epoch 20/100\n",
      "27/27 [==============================] - 0s 2ms/step - loss: 0.1739\n",
      "Epoch 21/100\n",
      "27/27 [==============================] - 0s 2ms/step - loss: 0.1737\n",
      "Epoch 22/100\n",
      "27/27 [==============================] - 0s 2ms/step - loss: 0.1735\n",
      "Epoch 23/100\n",
      "27/27 [==============================] - 0s 2ms/step - loss: 0.1733\n",
      "Epoch 24/100\n",
      "27/27 [==============================] - 0s 2ms/step - loss: 0.1732\n",
      "Epoch 25/100\n",
      "27/27 [==============================] - 0s 2ms/step - loss: 0.1731\n",
      "Epoch 26/100\n",
      "27/27 [==============================] - 0s 2ms/step - loss: 0.1730\n",
      "Epoch 27/100\n",
      "27/27 [==============================] - 0s 2ms/step - loss: 0.1728\n",
      "Epoch 28/100\n",
      "27/27 [==============================] - 0s 2ms/step - loss: 0.1726\n",
      "Epoch 29/100\n",
      "27/27 [==============================] - 0s 2ms/step - loss: 0.1726\n",
      "Epoch 30/100\n",
      "27/27 [==============================] - 0s 2ms/step - loss: 0.1724\n",
      "Epoch 31/100\n",
      "27/27 [==============================] - 0s 2ms/step - loss: 0.1723\n",
      "Epoch 32/100\n",
      "27/27 [==============================] - 0s 4ms/step - loss: 0.1721\n",
      "Epoch 33/100\n",
      "27/27 [==============================] - 0s 2ms/step - loss: 0.1721\n",
      "Epoch 34/100\n",
      "27/27 [==============================] - 0s 2ms/step - loss: 0.1721\n",
      "Epoch 35/100\n",
      "27/27 [==============================] - 0s 2ms/step - loss: 0.1719\n",
      "Epoch 36/100\n",
      "27/27 [==============================] - 0s 2ms/step - loss: 0.1718\n",
      "Epoch 37/100\n",
      "27/27 [==============================] - 0s 2ms/step - loss: 0.1718\n",
      "Epoch 38/100\n",
      "27/27 [==============================] - 0s 2ms/step - loss: 0.1717\n",
      "Epoch 39/100\n",
      "27/27 [==============================] - 0s 2ms/step - loss: 0.1716\n",
      "Epoch 40/100\n",
      "27/27 [==============================] - 0s 3ms/step - loss: 0.1716\n",
      "Epoch 41/100\n",
      "27/27 [==============================] - 0s 2ms/step - loss: 0.1715\n",
      "Epoch 42/100\n",
      "27/27 [==============================] - 0s 2ms/step - loss: 0.1714\n",
      "Epoch 43/100\n",
      "27/27 [==============================] - 0s 2ms/step - loss: 0.1713\n",
      "Epoch 44/100\n",
      "27/27 [==============================] - 0s 2ms/step - loss: 0.1714\n",
      "Epoch 45/100\n",
      "27/27 [==============================] - 0s 2ms/step - loss: 0.1712\n",
      "Epoch 46/100\n",
      "27/27 [==============================] - 0s 2ms/step - loss: 0.1712\n",
      "Epoch 47/100\n",
      "27/27 [==============================] - 0s 2ms/step - loss: 0.1711\n",
      "Epoch 48/100\n",
      "27/27 [==============================] - 0s 2ms/step - loss: 0.1711\n",
      "Epoch 49/100\n",
      "27/27 [==============================] - 0s 2ms/step - loss: 0.1711\n",
      "Epoch 50/100\n",
      "27/27 [==============================] - 0s 2ms/step - loss: 0.1710\n",
      "Epoch 51/100\n",
      "27/27 [==============================] - 0s 4ms/step - loss: 0.1711\n",
      "Epoch 52/100\n",
      "27/27 [==============================] - 0s 2ms/step - loss: 0.1711\n",
      "Epoch 53/100\n",
      "27/27 [==============================] - 0s 2ms/step - loss: 0.1710\n",
      "Epoch 54/100\n",
      "27/27 [==============================] - 0s 3ms/step - loss: 0.1709\n",
      "Epoch 55/100\n",
      "27/27 [==============================] - 0s 2ms/step - loss: 0.1709\n",
      "Epoch 56/100\n",
      "27/27 [==============================] - 0s 2ms/step - loss: 0.1709\n",
      "Epoch 57/100\n",
      "27/27 [==============================] - 0s 2ms/step - loss: 0.1708\n",
      "Epoch 58/100\n",
      "27/27 [==============================] - 0s 2ms/step - loss: 0.1708\n",
      "Epoch 59/100\n",
      "27/27 [==============================] - 0s 2ms/step - loss: 0.1707\n",
      "Epoch 60/100\n",
      "27/27 [==============================] - 0s 2ms/step - loss: 0.1708\n",
      "Epoch 61/100\n",
      "27/27 [==============================] - 0s 2ms/step - loss: 0.1708\n",
      "Epoch 62/100\n",
      "27/27 [==============================] - 0s 2ms/step - loss: 0.1707\n",
      "Epoch 63/100\n",
      "27/27 [==============================] - 0s 2ms/step - loss: 0.1707\n",
      "Epoch 64/100\n",
      "27/27 [==============================] - 0s 2ms/step - loss: 0.1708\n",
      "Epoch 65/100\n",
      "27/27 [==============================] - 0s 3ms/step - loss: 0.1706\n",
      "Epoch 66/100\n",
      "27/27 [==============================] - 0s 2ms/step - loss: 0.1706\n",
      "Epoch 67/100\n",
      "27/27 [==============================] - 0s 2ms/step - loss: 0.1706\n",
      "Epoch 68/100\n",
      "27/27 [==============================] - 0s 2ms/step - loss: 0.1706\n",
      "Epoch 69/100\n",
      "27/27 [==============================] - 0s 4ms/step - loss: 0.1706\n",
      "Epoch 70/100\n",
      "27/27 [==============================] - 0s 2ms/step - loss: 0.1707\n",
      "Epoch 71/100\n",
      "27/27 [==============================] - 0s 2ms/step - loss: 0.1705\n",
      "Epoch 72/100\n",
      "27/27 [==============================] - 0s 2ms/step - loss: 0.1705\n",
      "Epoch 73/100\n",
      "27/27 [==============================] - 0s 2ms/step - loss: 0.1705\n",
      "Epoch 74/100\n",
      "27/27 [==============================] - 0s 2ms/step - loss: 0.1705\n",
      "Epoch 75/100\n",
      "27/27 [==============================] - 0s 2ms/step - loss: 0.1705\n",
      "Epoch 76/100\n",
      "27/27 [==============================] - 0s 2ms/step - loss: 0.1706\n",
      "Epoch 77/100\n",
      "27/27 [==============================] - 0s 2ms/step - loss: 0.1705\n",
      "Epoch 78/100\n",
      "27/27 [==============================] - 0s 2ms/step - loss: 0.1705\n",
      "Epoch 79/100\n",
      "27/27 [==============================] - 0s 2ms/step - loss: 0.1705\n",
      "Epoch 80/100\n",
      "27/27 [==============================] - 0s 2ms/step - loss: 0.1705\n",
      "Epoch 81/100\n",
      "27/27 [==============================] - 0s 2ms/step - loss: 0.1705\n",
      "Epoch 82/100\n",
      "27/27 [==============================] - 0s 2ms/step - loss: 0.1704\n",
      "Epoch 83/100\n",
      "27/27 [==============================] - 0s 2ms/step - loss: 0.1705\n",
      "Epoch 84/100\n",
      "27/27 [==============================] - 0s 3ms/step - loss: 0.1706\n",
      "Epoch 85/100\n",
      "27/27 [==============================] - 0s 2ms/step - loss: 0.1704\n",
      "Epoch 86/100\n",
      "27/27 [==============================] - 0s 4ms/step - loss: 0.1705\n",
      "Epoch 87/100\n",
      "27/27 [==============================] - 0s 3ms/step - loss: 0.1704\n",
      "Epoch 88/100\n",
      "27/27 [==============================] - 0s 2ms/step - loss: 0.1704\n",
      "Epoch 89/100\n",
      "27/27 [==============================] - 0s 2ms/step - loss: 0.1704\n",
      "Epoch 90/100\n",
      "27/27 [==============================] - 0s 2ms/step - loss: 0.1706\n",
      "Epoch 91/100\n",
      "27/27 [==============================] - 0s 2ms/step - loss: 0.1705\n",
      "Epoch 92/100\n",
      "27/27 [==============================] - 0s 2ms/step - loss: 0.1704\n",
      "Epoch 93/100\n",
      "27/27 [==============================] - 0s 2ms/step - loss: 0.1704\n",
      "Epoch 94/100\n",
      "27/27 [==============================] - 0s 2ms/step - loss: 0.1704\n",
      "Epoch 95/100\n",
      "27/27 [==============================] - 0s 2ms/step - loss: 0.1705\n",
      "Epoch 96/100\n",
      "27/27 [==============================] - 0s 2ms/step - loss: 0.1704\n",
      "Epoch 97/100\n",
      "27/27 [==============================] - 0s 2ms/step - loss: 0.1704\n",
      "Epoch 98/100\n",
      "27/27 [==============================] - 0s 2ms/step - loss: 0.1704\n",
      "Epoch 99/100\n",
      "27/27 [==============================] - 0s 2ms/step - loss: 0.1704\n",
      "Epoch 100/100\n",
      "27/27 [==============================] - 0s 2ms/step - loss: 0.1704\n"
     ]
    }
   ],
   "source": [
    "#train model\n",
    "#tf.reshape(X_train, [859, 2])\n",
    "history = model.fit(X_trainNorm, y_train, epochs=100)"
   ]
  },
  {
   "cell_type": "code",
   "execution_count": 105,
   "metadata": {},
   "outputs": [
    {
     "data": {
      "text/plain": [
       "[<matplotlib.lines.Line2D at 0x22cb877e610>]"
      ]
     },
     "execution_count": 105,
     "metadata": {},
     "output_type": "execute_result"
    },
    {
     "data": {
      "image/png": "[encoded data removed]",
      "text/plain": [
       "<Figure size 640x480 with 1 Axes>"
      ]
     },
     "metadata": {},
     "output_type": "display_data"
    }
   ],
   "source": [
    "#Diagnosis\n",
    "##check whether learning curve flattens\n",
    "plt.plot(history.history['loss'])"
   ]
  },
  {
   "cell_type": "code",
   "execution_count": 106,
   "metadata": {},
   "outputs": [
    {
     "name": "stdout",
     "output_type": "stream",
     "text": [
      "7/7 [==============================] - 0s 2ms/step - loss: 0.1703\n",
      "3/3 [==============================] - 0s 2ms/step - loss: 0.1846\n"
     ]
    }
   ],
   "source": [
    "#Errors\n",
    "J_train = model.evaluate(X_trainNorm, y_train, batch_size=128)\n",
    "J_cv = model.evaluate(X_cvNorm, y_cv, batch_size=128)\n"
   ]
  },
  {
   "cell_type": "code",
   "execution_count": 107,
   "metadata": {},
   "outputs": [
    {
     "name": "stdout",
     "output_type": "stream",
     "text": [
      "9/9 [==============================] - 0s 2ms/step\n"
     ]
    }
   ],
   "source": [
    "#Precision and recall\n",
    "threshold = 0.5\n",
    "##On cv set\n",
    "yhat = model.predict(X_cvNorm)\n",
    "#not probabilities, but inputs for softmax function\n",
    "##for precision score to work, I need to round to make sure it's binary\n",
    "yhat = tf.nn.softmax(yhat).numpy()\n",
    "yhat = np.where(yhat >= threshold, 1, 0)\n",
    "#reduce dimension\n",
    "yhat = yhat[:, 0]\n",
    "#change data type to float64\n",
    "yhat = yhat.astype(\"float64\")\n",
    "\n",
    "precision = precision_score(y_cv, yhat)\n",
    "recall = recall_score(y_cv, yhat)"
   ]
  },
  {
   "cell_type": "code",
   "execution_count": 109,
   "metadata": {},
   "outputs": [
    {
     "name": "stdout",
     "output_type": "stream",
     "text": [
      "Precision after regularisation = 0.04529616724738676\n",
      "Recall after regularisation = 1.0\n"
     ]
    }
   ],
   "source": [
    "print(\"Precision after regularisation = \" + str(precision))\n",
    "print(\"Recall after regularisation = \" + str(recall))\n",
    "#Recall shows, that algorithm predicts everything as 1\n",
    "\n"
   ]
  }
 ],
 "metadata": {
  "kernelspec": {
   "display_name": "AI",
   "language": "python",
   "name": "python3"
  },
  "language_info": {
   "codemirror_mode": {
    "name": "ipython",
    "version": 3
   },
   "file_extension": ".py",
   "mimetype": "text/x-python",
   "name": "python",
   "nbconvert_exporter": "python",
   "pygments_lexer": "ipython3",
   "version": "3.8.16"
  },
  "orig_nbformat": 4,
  "vscode": {
   "interpreter": {
    "hash": "1b6b467026d8f5bb6a0a1053399fc00ec574060da87eaf167c3f4771c978478f"
   }
  }
 },
 "nbformat": 4,
 "nbformat_minor": 2
}
